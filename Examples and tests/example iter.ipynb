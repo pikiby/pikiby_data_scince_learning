{
 "cells": [
  {
   "cell_type": "code",
   "execution_count": 7,
   "metadata": {},
   "outputs": [
    {
     "name": "stdout",
     "output_type": "stream",
     "text": [
      "<list_iterator object at 0x00000139E90946D0>\n"
     ]
    }
   ],
   "source": [
    "# Извлечём итератор из список new_list \n",
    "new_list = [12, 14, 16]\n",
    "iter_list = iter(new_list) \n",
    "print(iter_list)\n",
    "# Будет напечатано \n",
    "# list_iterator object at 0x0000025DAA2D3B50"
   ]
  },
  {
   "cell_type": "code",
   "execution_count": 6,
   "metadata": {},
   "outputs": [
    {
     "name": "stdout",
     "output_type": "stream",
     "text": [
      "<list_iterator object at 0x00000139E90677F0>\n"
     ]
    },
    {
     "ename": "TypeError",
     "evalue": "'list_iterator' object is not subscriptable",
     "output_type": "error",
     "traceback": [
      "\u001b[1;31m---------------------------------------------------------------------------\u001b[0m",
      "\u001b[1;31mTypeError\u001b[0m                                 Traceback (most recent call last)",
      "\u001b[1;32mc:\\Users\\Boris\\Desktop\\курс\\IDE\\Examples and tests\\example iter.ipynb Ячейка 2\u001b[0m in \u001b[0;36m<cell line: 6>\u001b[1;34m()\u001b[0m\n\u001b[0;32m      <a href='vscode-notebook-cell:/c%3A/Users/Boris/Desktop/%D0%BA%D1%83%D1%80%D1%81/IDE/Examples%20and%20tests/example%20iter.ipynb#ch0000001?line=2'>3</a>\u001b[0m \u001b[39mprint\u001b[39m(iter_list)\n\u001b[0;32m      <a href='vscode-notebook-cell:/c%3A/Users/Boris/Desktop/%D0%BA%D1%83%D1%80%D1%81/IDE/Examples%20and%20tests/example%20iter.ipynb#ch0000001?line=4'>5</a>\u001b[0m \u001b[39m# Попробуем получить значение по индексу 2\u001b[39;00m\n\u001b[1;32m----> <a href='vscode-notebook-cell:/c%3A/Users/Boris/Desktop/%D0%BA%D1%83%D1%80%D1%81/IDE/Examples%20and%20tests/example%20iter.ipynb#ch0000001?line=5'>6</a>\u001b[0m \u001b[39mprint\u001b[39m(iter_list[\u001b[39m2\u001b[39;49m])\n",
      "\u001b[1;31mTypeError\u001b[0m: 'list_iterator' object is not subscriptable"
     ]
    }
   ],
   "source": [
    "new_list = [12, 14, 16]\n",
    "iter_list = iter(new_list) \n",
    "print(iter_list)\n",
    "\n",
    "# Попробуем получить значение по индексу 2\n",
    "print(iter_list[2])\n",
    "# Возникнет ошибка:\n",
    "# TypeError: 'list_iterator' object is not subscriptable"
   ]
  },
  {
   "cell_type": "code",
   "execution_count": 5,
   "metadata": {},
   "outputs": [
    {
     "name": "stdout",
     "output_type": "stream",
     "text": [
      "<list_iterator object at 0x00000139E90E33D0>\n",
      "12\n",
      "14\n",
      "16\n"
     ]
    },
    {
     "ename": "StopIteration",
     "evalue": "",
     "output_type": "error",
     "traceback": [
      "\u001b[1;31m---------------------------------------------------------------------------\u001b[0m",
      "\u001b[1;31mStopIteration\u001b[0m                             Traceback (most recent call last)",
      "\u001b[1;32mc:\\Users\\Boris\\Desktop\\курс\\IDE\\Examples and tests\\example iter.ipynb Ячейка 3\u001b[0m in \u001b[0;36m<cell line: 8>\u001b[1;34m()\u001b[0m\n\u001b[0;32m      <a href='vscode-notebook-cell:/c%3A/Users/Boris/Desktop/%D0%BA%D1%83%D1%80%D1%81/IDE/Examples%20and%20tests/example%20iter.ipynb#ch0000002?line=5'>6</a>\u001b[0m \u001b[39mprint\u001b[39m(\u001b[39mnext\u001b[39m(iter_list))\n\u001b[0;32m      <a href='vscode-notebook-cell:/c%3A/Users/Boris/Desktop/%D0%BA%D1%83%D1%80%D1%81/IDE/Examples%20and%20tests/example%20iter.ipynb#ch0000002?line=6'>7</a>\u001b[0m \u001b[39mprint\u001b[39m(\u001b[39mnext\u001b[39m(iter_list))\n\u001b[1;32m----> <a href='vscode-notebook-cell:/c%3A/Users/Boris/Desktop/%D0%BA%D1%83%D1%80%D1%81/IDE/Examples%20and%20tests/example%20iter.ipynb#ch0000002?line=7'>8</a>\u001b[0m \u001b[39mprint\u001b[39m(\u001b[39mnext\u001b[39;49m(iter_list))\n",
      "\u001b[1;31mStopIteration\u001b[0m: "
     ]
    }
   ],
   "source": [
    "new_list = [12, 14, 16]\n",
    "iter_list = iter(new_list) \n",
    "print(iter_list)\n",
    "\n",
    "print(next(iter_list))\n",
    "print(next(iter_list))\n",
    "print(next(iter_list))\n",
    "print(next(iter_list))\n",
    "# Будет напечатано:\n",
    "# 12\n",
    "# 14\n",
    "# 16\n",
    "# StopIteration:"
   ]
  },
  {
   "cell_type": "code",
   "execution_count": 4,
   "metadata": {},
   "outputs": [
    {
     "name": "stdout",
     "output_type": "stream",
     "text": [
      "12\n",
      "14\n",
      "16\n",
      "Iter list is over!\n"
     ]
    }
   ],
   "source": [
    "new_list = [12, 14, 16]\n",
    "iter_list = iter(new_list) \n",
    "# Создаём бесконечный цикл while\n",
    "while True:\n",
    "    # Создаём блок обработки исключений\n",
    "    try:\n",
    "        # Выводим следующий объект из итератора\n",
    "        print(next(iter_list))\n",
    "   # Отлавливаем исключение StopIteration\n",
    "    except StopIteration:\n",
    "        # Когда возникает исключение, выводим фразу на экран\n",
    "        print(\"Iter list is over!\")\n",
    "        # Завершаем цикл\n",
    "        break\n",
    " \n",
    "# Будет напечатано:\n",
    "# 12\n",
    "# 14\n",
    "# 16\n",
    "# Iter list is over!"
   ]
  },
  {
   "cell_type": "code",
   "execution_count": 3,
   "metadata": {},
   "outputs": [
    {
     "name": "stdout",
     "output_type": "stream",
     "text": [
      "12\n",
      "14\n",
      "16\n"
     ]
    }
   ],
   "source": [
    "new_list = [12, 14, 16]\n",
    "iter_list = iter(new_list) \n",
    "\n",
    "# Создаём цикл for по объектам из итератора\n",
    "for count in iter_list:\n",
    "    # Выводим текущий элемент на экран\n",
    "    print(count)\n",
    " \n",
    "# Будет напечатано:\n",
    "# 12\n",
    "# 14\n",
    "# 16"
   ]
  }
 ],
 "metadata": {
  "kernelspec": {
   "display_name": "Python 3.9.13 64-bit",
   "language": "python",
   "name": "python3"
  },
  "language_info": {
   "codemirror_mode": {
    "name": "ipython",
    "version": 3
   },
   "file_extension": ".py",
   "mimetype": "text/x-python",
   "name": "python",
   "nbconvert_exporter": "python",
   "pygments_lexer": "ipython3",
   "version": "3.9.13"
  },
  "orig_nbformat": 4,
  "vscode": {
   "interpreter": {
    "hash": "548c83946ac6174562a34cd30bb3bf23deaa49d6c7797d22dea96cb05ee08127"
   }
  }
 },
 "nbformat": 4,
 "nbformat_minor": 2
}
