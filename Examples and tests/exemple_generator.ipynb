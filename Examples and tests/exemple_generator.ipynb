{
 "cells": [
  {
   "cell_type": "code",
   "execution_count": 4,
   "metadata": {},
   "outputs": [
    {
     "name": "stdout",
     "output_type": "stream",
     "text": [
      "<generator object deposit at 0x000002C68793C9E0>\n"
     ]
    }
   ],
   "source": [
    "# Объявляем функцию для расчёта суммы вклада\n",
    "def deposit(money, interest):\n",
    "    # Процент по вкладу преобразуем во множитель:\n",
    "    # делим процент на 100 и прибавляем 1\n",
    "    interest = interest/100 + 1\n",
    "    # Создаем бесконечный цикл\n",
    "    while True:\n",
    "        # Сумма вклада через год — это\n",
    "        # текущая сумма, умноженная на коэффициент и\n",
    "        # округлённая до двух знаков после запятой\n",
    "        money = round(interest * money, 2)\n",
    "        # Выдаём полученную сумму вклада\n",
    "        yield money\n",
    "\n",
    "print(deposit(1000, 5))\n",
    "#Будет выведено\n",
    "#generator object deposit at 0x0000025DAA415270"
   ]
  },
  {
   "cell_type": "code",
   "execution_count": 5,
   "metadata": {},
   "outputs": [
    {
     "name": "stdout",
     "output_type": "stream",
     "text": [
      "1050.0\n",
      "1102.5\n",
      "1157.62\n"
     ]
    }
   ],
   "source": [
    "bank = deposit(1000, 5)\n",
    "\n",
    "print(next(bank)) # Запускаем генератор bank в первый раз\n",
    "print(next(bank)) # Запускаем генератор bank во второй раз\n",
    "print(next(bank)) # Запускаем генератор bank в третий раз\n",
    "# Будет напечатано:\n",
    "# 1050.0\n",
    "# 1102.5\n",
    "# 1157.62"
   ]
  },
  {
   "cell_type": "code",
   "execution_count": 6,
   "metadata": {},
   "outputs": [
    {
     "name": "stdout",
     "output_type": "stream",
     "text": [
      "1545.0\n",
      "1591.35\n"
     ]
    },
    {
     "ename": "StopIteration",
     "evalue": "",
     "output_type": "error",
     "traceback": [
      "\u001b[1;31m---------------------------------------------------------------------------\u001b[0m",
      "\u001b[1;31mStopIteration\u001b[0m                             Traceback (most recent call last)",
      "\u001b[1;32mc:\\Users\\Boris\\Desktop\\курс\\IDE\\Examples and tests\\exemple_generator.ipynb Ячейка 3\u001b[0m in \u001b[0;36m<cell line: 13>\u001b[1;34m()\u001b[0m\n\u001b[0;32m     <a href='vscode-notebook-cell:/c%3A/Users/Boris/Desktop/%D0%BA%D1%83%D1%80%D1%81/IDE/Examples%20and%20tests/exemple_generator.ipynb#ch0000002?line=10'>11</a>\u001b[0m \u001b[39mprint\u001b[39m(\u001b[39mnext\u001b[39m(bank2))\n\u001b[0;32m     <a href='vscode-notebook-cell:/c%3A/Users/Boris/Desktop/%D0%BA%D1%83%D1%80%D1%81/IDE/Examples%20and%20tests/exemple_generator.ipynb#ch0000002?line=11'>12</a>\u001b[0m \u001b[39mprint\u001b[39m(\u001b[39mnext\u001b[39m(bank2))\n\u001b[1;32m---> <a href='vscode-notebook-cell:/c%3A/Users/Boris/Desktop/%D0%BA%D1%83%D1%80%D1%81/IDE/Examples%20and%20tests/exemple_generator.ipynb#ch0000002?line=12'>13</a>\u001b[0m \u001b[39mprint\u001b[39m(\u001b[39mnext\u001b[39;49m(bank2))\n",
      "\u001b[1;31mStopIteration\u001b[0m: "
     ]
    }
   ],
   "source": [
    "def deposit_years(money, interest, years):\n",
    "    interest = interest/100 + 1\n",
    "    # Вместо while используем цикл for с range\n",
    "    for year in range(years):\n",
    "        money = round(interest * money, 2)\n",
    "        # Выдаём полученную сумму вклада\n",
    "        yield money\n",
    "\n",
    "bank2 = deposit_years(1500, 3, 2)\n",
    "\n",
    "print(next(bank2))\n",
    "print(next(bank2))\n",
    "print(next(bank2))\n",
    "# Будет напечатано:\n",
    "# 1545.0\n",
    "# 1591.35\n",
    "# StopIteration:"
   ]
  },
  {
   "cell_type": "code",
   "execution_count": 8,
   "metadata": {},
   "outputs": [
    {
     "name": "stdout",
     "output_type": "stream",
     "text": [
      "<class 'generator'>\n"
     ]
    }
   ],
   "source": [
    "# Объявляем генератор square_gen\n",
    "def square_gen():\n",
    "    # Создаём цикл для последовательности от 1 до 10\n",
    "    for x in range(1, 11):\n",
    "        # Выдаём квадрат числа\n",
    "        yield x ** 2\n",
    "gen = square_gen()\n",
    "print(type(gen))\n",
    "# Будет выведено:\n",
    "# <class 'generator'>"
   ]
  },
  {
   "cell_type": "code",
   "execution_count": null,
   "metadata": {},
   "outputs": [],
   "source": [
    "square_list = list(gen)\n",
    "print(square_list)\n",
    "# Будет выведено\n",
    "# [1, 4, 9, 16, 25, 36, 49, 64, 81, 100]"
   ]
  },
  {
   "cell_type": "code",
   "execution_count": 9,
   "metadata": {},
   "outputs": [
    {
     "name": "stdout",
     "output_type": "stream",
     "text": [
      "<class 'generator'>\n",
      "<generator object <genexpr> at 0x000002C685F0C190>\n"
     ]
    }
   ],
   "source": [
    "# Создаём сокращённую форму генератора квадратов\n",
    "squares_generator = (x**2 for x in range(1, 11))\n",
    "print(type(squares_generator))\n",
    "print(squares_generator)\n",
    "# Будет напечатано:\n",
    "# <class 'generator'>\n",
    "# <generator object <genexpr> at 0x7fc9aeab61d0>"
   ]
  },
  {
   "cell_type": "code",
   "execution_count": 10,
   "metadata": {},
   "outputs": [
    {
     "name": "stdout",
     "output_type": "stream",
     "text": [
      "[1, 4, 9, 16, 25, 36, 49, 64, 81, 100]\n"
     ]
    }
   ],
   "source": [
    "# Создаём сокращённую форму генератора квадратов\n",
    "squares_generator = (x**2 for x in range(1, 11))\n",
    "# Оборачиваем сгенерированные элементы в список:\n",
    "squares_list = list(squares_generator)\n",
    "print(squares_list)\n",
    "# Будет напечатано:\n",
    "# [1, 4, 9, 16, 25, 36, 49, 64, 81, 100]"
   ]
  },
  {
   "cell_type": "code",
   "execution_count": 14,
   "metadata": {},
   "outputs": [
    {
     "name": "stdout",
     "output_type": "stream",
     "text": [
      "(1, 4, 9, 16, 25, 36, 49, 64, 81, 100)\n"
     ]
    }
   ],
   "source": [
    "# Создаём сокращённую форму генератора квадратов\n",
    "squares_generator = (x**2 for x in range(1, 11))\n",
    "# Оборачиваем сгенерированные значения в кортеж\n",
    "squares_tuple = tuple(squares_generator)\n",
    "print(squares_tuple)\n",
    "# Будет напечатано:\n",
    "# (1, 4, 9, 16, 25, 36, 49, 64, 81, 100)"
   ]
  },
  {
   "cell_type": "code",
   "execution_count": 13,
   "metadata": {},
   "outputs": [
    {
     "name": "stdout",
     "output_type": "stream",
     "text": [
      "<class 'list'>\n",
      "[27, 216, 729, 1728, 3375]\n"
     ]
    }
   ],
   "source": [
    "# Создаём генератор списка кубов чисел, которые делятся на 3\n",
    "triple_cubes_list = [x**3 for x in range(1,16) if x % 3 == 0]\n",
    "print(type(triple_cubes_list))\n",
    "print(triple_cubes_list)\n",
    "# Будет напечатано:\n",
    "# <class 'list'>\n",
    "# [27, 216, 729, 1728, 3375]"
   ]
  },
  {
   "cell_type": "code",
   "execution_count": 12,
   "metadata": {},
   "outputs": [
    {
     "name": "stdout",
     "output_type": "stream",
     "text": [
      "<class 'set'>\n",
      "{1728, 3375, 216, 729, 27}\n"
     ]
    }
   ],
   "source": [
    "# Создаём генератор множества кубов чисел, которые делятся на 3\n",
    "triple_cubes_set = {x**3 for x in range(1,16) if x % 3 == 0}\n",
    "print(type(triple_cubes_set))\n",
    "print(triple_cubes_set)\n",
    "# Будет напечатано:\n",
    "# <class 'set'>\n",
    "# {1728, 3375, 216, 729, 27}"
   ]
  },
  {
   "cell_type": "code",
   "execution_count": 11,
   "metadata": {},
   "outputs": [
    {
     "name": "stdout",
     "output_type": "stream",
     "text": [
      "<class 'tuple'>\n",
      "(27, 216, 729, 1728, 3375)\n"
     ]
    }
   ],
   "source": [
    "triple_cubes_tuple = tuple(x**3 for x in range(1,16) if x % 3 == 0)\n",
    "print(type(triple_cubes_tuple))\n",
    "print(triple_cubes_tuple)\n",
    "# Будет напечатано:\n",
    "# <class 'tuple'>\n",
    "# (27, 216, 729, 1728, 3375)"
   ]
  }
 ],
 "metadata": {
  "kernelspec": {
   "display_name": "Python 3.9.13 64-bit",
   "language": "python",
   "name": "python3"
  },
  "language_info": {
   "codemirror_mode": {
    "name": "ipython",
    "version": 3
   },
   "file_extension": ".py",
   "mimetype": "text/x-python",
   "name": "python",
   "nbconvert_exporter": "python",
   "pygments_lexer": "ipython3",
   "version": "3.9.13"
  },
  "orig_nbformat": 4,
  "vscode": {
   "interpreter": {
    "hash": "548c83946ac6174562a34cd30bb3bf23deaa49d6c7797d22dea96cb05ee08127"
   }
  }
 },
 "nbformat": 4,
 "nbformat_minor": 2
}
