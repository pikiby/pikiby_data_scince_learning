{
 "cells": [
  {
   "cell_type": "code",
   "execution_count": 1,
   "metadata": {},
   "outputs": [
    {
     "name": "stdout",
     "output_type": "stream",
     "text": [
      "0: admin\n",
      "1: guest\n",
      "2: root\n",
      "3: anonymous\n"
     ]
    }
   ],
   "source": [
    "users = ['admin', 'guest', 'root', 'anonymous']\n",
    "# Создаём цикл по элементам и индексам списка users\n",
    "for i, user in enumerate(users):\n",
    "    # Выводим индекс и элемент на экран через двоеточие\n",
    "    print(i, user, sep=': ')\n",
    "# Будет напечатано:\n",
    "# 0: admin\n",
    "# 1: guest\n",
    "# 2: root\n",
    "# 3: anonymous"
   ]
  },
  {
   "cell_type": "code",
   "execution_count": 2,
   "metadata": {},
   "outputs": [
    {
     "name": "stdout",
     "output_type": "stream",
     "text": [
      "[(0, 'admin'), (1, 'guest'), (2, 'root'), (3, 'anonymous')]\n"
     ]
    }
   ],
   "source": [
    "users = ['admin', 'guest', 'root', 'anonymous']\n",
    "\n",
    "# Создаём итератор enumerate из списка users\n",
    "enum_users = enumerate(users)\n",
    "# Получаем список из объекта enumerate\n",
    "enum_list = list(enum_users)\n",
    "print(enum_list)\n",
    "# Будет напечатано:\n",
    "# [(0, 'admin'), (1, 'guest'), (2, 'root'), (3, 'anonymous')]"
   ]
  }
 ],
 "metadata": {
  "kernelspec": {
   "display_name": "Python 3.9.13 64-bit",
   "language": "python",
   "name": "python3"
  },
  "language_info": {
   "codemirror_mode": {
    "name": "ipython",
    "version": 3
   },
   "file_extension": ".py",
   "mimetype": "text/x-python",
   "name": "python",
   "nbconvert_exporter": "python",
   "pygments_lexer": "ipython3",
   "version": "3.9.13"
  },
  "orig_nbformat": 4,
  "vscode": {
   "interpreter": {
    "hash": "548c83946ac6174562a34cd30bb3bf23deaa49d6c7797d22dea96cb05ee08127"
   }
  }
 },
 "nbformat": 4,
 "nbformat_minor": 2
}
