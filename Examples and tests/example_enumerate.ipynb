{
 "cells": [
  {
   "cell_type": "code",
   "execution_count": 1,
   "metadata": {},
   "outputs": [
    {
     "name": "stdout",
     "output_type": "stream",
     "text": [
      "0: admin\n",
      "1: guest\n",
      "2: root\n",
      "3: anonymous\n"
     ]
    }
   ],
   "source": [
    "users = ['admin', 'guest', 'root', 'anonymous']\n",
    "# Создаём цикл по элементам и индексам списка users\n",
    "for i, user in enumerate(users):\n",
    "    # Выводим индекс и элемент на экран через двоеточие\n",
    "    print(i, user, sep=': ')\n",
    "# Будет напечатано:\n",
    "# 0: admin\n",
    "# 1: guest\n",
    "# 2: root\n",
    "# 3: anonymous"
   ]
  },
  {
   "cell_type": "code",
   "execution_count": 10,
   "metadata": {},
   "outputs": [
    {
     "name": "stdout",
     "output_type": "stream",
     "text": [
      "(0, 'admin')\n",
      "(1, 'guest')\n",
      "(2, 'root')\n",
      "(3, 'anonymous')\n"
     ]
    },
    {
     "ename": "StopIteration",
     "evalue": "",
     "output_type": "error",
     "traceback": [
      "\u001b[1;31m---------------------------------------------------------------------------\u001b[0m",
      "\u001b[1;31mStopIteration\u001b[0m                             Traceback (most recent call last)",
      "\u001b[1;32mc:\\Users\\Boris\\Desktop\\курс\\IDE\\Examples and tests\\exemple_enumerate.ipynb Ячейка 2\u001b[0m in \u001b[0;36m<cell line: 8>\u001b[1;34m()\u001b[0m\n\u001b[0;32m      <a href='vscode-notebook-cell:/c%3A/Users/Boris/Desktop/%D0%BA%D1%83%D1%80%D1%81/IDE/Examples%20and%20tests/exemple_enumerate.ipynb#ch0000004?line=5'>6</a>\u001b[0m \u001b[39mprint\u001b[39m(\u001b[39mnext\u001b[39m(user))\n\u001b[0;32m      <a href='vscode-notebook-cell:/c%3A/Users/Boris/Desktop/%D0%BA%D1%83%D1%80%D1%81/IDE/Examples%20and%20tests/exemple_enumerate.ipynb#ch0000004?line=6'>7</a>\u001b[0m \u001b[39mprint\u001b[39m(\u001b[39mnext\u001b[39m(user))\n\u001b[1;32m----> <a href='vscode-notebook-cell:/c%3A/Users/Boris/Desktop/%D0%BA%D1%83%D1%80%D1%81/IDE/Examples%20and%20tests/exemple_enumerate.ipynb#ch0000004?line=7'>8</a>\u001b[0m \u001b[39mprint\u001b[39m(\u001b[39mnext\u001b[39;49m(user))\n",
      "\u001b[1;31mStopIteration\u001b[0m: "
     ]
    }
   ],
   "source": [
    "users = ['admin', 'guest', 'root', 'anonymous']\n",
    "# Создаём цикл по элементам и индексам списка users\n",
    "user=enumerate(users)\n",
    "print(next(user))\n",
    "print(next(user))\n",
    "print(next(user))\n",
    "print(next(user))\n",
    "print(next(user))"
   ]
  },
  {
   "cell_type": "code",
   "execution_count": 2,
   "metadata": {},
   "outputs": [
    {
     "name": "stdout",
     "output_type": "stream",
     "text": [
      "[(0, 'admin'), (1, 'guest'), (2, 'root'), (3, 'anonymous')]\n"
     ]
    }
   ],
   "source": [
    "users = ['admin', 'guest', 'root', 'anonymous']\n",
    "\n",
    "# Создаём итератор enumerate из списка users\n",
    "enum_users = enumerate(users)\n",
    "# Получаем список из объекта enumerate\n",
    "enum_list = list(enum_users)\n",
    "print(enum_list)\n",
    "# Будет напечатано:\n",
    "# [(0, 'admin'), (1, 'guest'), (2, 'root'), (3, 'anonymous')]"
   ]
  },
  {
   "cell_type": "code",
   "execution_count": 4,
   "metadata": {},
   "outputs": [
    {
     "ename": "StopIteration",
     "evalue": "",
     "output_type": "error",
     "traceback": [
      "\u001b[1;31m---------------------------------------------------------------------------\u001b[0m",
      "\u001b[1;31mStopIteration\u001b[0m                             Traceback (most recent call last)",
      "\u001b[1;32mc:\\Users\\Boris\\Desktop\\курс\\IDE\\Examples and tests\\exemple_enumerate.ipynb Ячейка 3\u001b[0m in \u001b[0;36m<cell line: 7>\u001b[1;34m()\u001b[0m\n\u001b[0;32m      <a href='vscode-notebook-cell:/c%3A/Users/Boris/Desktop/%D0%BA%D1%83%D1%80%D1%81/IDE/Examples%20and%20tests/exemple_enumerate.ipynb#ch0000003?line=4'>5</a>\u001b[0m \u001b[39m# Получаем список из объекта enumerate\u001b[39;00m\n\u001b[0;32m      <a href='vscode-notebook-cell:/c%3A/Users/Boris/Desktop/%D0%BA%D1%83%D1%80%D1%81/IDE/Examples%20and%20tests/exemple_enumerate.ipynb#ch0000003?line=5'>6</a>\u001b[0m enum_list \u001b[39m=\u001b[39m \u001b[39mlist\u001b[39m(enum_users)\n\u001b[1;32m----> <a href='vscode-notebook-cell:/c%3A/Users/Boris/Desktop/%D0%BA%D1%83%D1%80%D1%81/IDE/Examples%20and%20tests/exemple_enumerate.ipynb#ch0000003?line=6'>7</a>\u001b[0m \u001b[39mprint\u001b[39m(\u001b[39mnext\u001b[39;49m(enum_users))\n",
      "\u001b[1;31mStopIteration\u001b[0m: "
     ]
    }
   ],
   "source": [
    "users = ['admin', 'guest', 'root', 'anonymous']\n",
    "\n",
    "# Создаём итератор enumerate из списка users\n",
    "enum_users = enumerate(users)\n",
    "# Получаем список из объекта enumerate\n",
    "enum_list = list(enum_users)\n",
    "print(next(enum_users))\n",
    "# Возникнет ошибка:\n",
    "# StopIteration:\n",
    "\n",
    "#Возникла ошибка итерации. Дело в том, что в итераторе закончились \n",
    "#элементы в тот момент, как только мы получили из него список в примере выше, \n",
    "#поэтому попытка получить из него ещё элементы вызвала ошибк"
   ]
  },
  {
   "cell_type": "code",
   "execution_count": 3,
   "metadata": {},
   "outputs": [],
   "source": [
    "users = ['admin', 'guest', 'root', 'anonymous']\n",
    "\n",
    "# Создаём итератор enumerate из списка users\n",
    "enum_users = enumerate(users)\n",
    "# Получаем список из объекта enumerate\n",
    "enum_list = list(enum_users)\n",
    "\n",
    "for i, user in enum_users:\n",
    "    print(i, user, sep=': ')\n",
    "# Ничего не будет напечатано"
   ]
  }
 ],
 "metadata": {
  "kernelspec": {
   "display_name": "Python 3.9.13 64-bit",
   "language": "python",
   "name": "python3"
  },
  "language_info": {
   "codemirror_mode": {
    "name": "ipython",
    "version": 3
   },
   "file_extension": ".py",
   "mimetype": "text/x-python",
   "name": "python",
   "nbconvert_exporter": "python",
   "pygments_lexer": "ipython3",
   "version": "3.9.13"
  },
  "orig_nbformat": 4,
  "vscode": {
   "interpreter": {
    "hash": "548c83946ac6174562a34cd30bb3bf23deaa49d6c7797d22dea96cb05ee08127"
   }
  }
 },
 "nbformat": 4,
 "nbformat_minor": 2
}
